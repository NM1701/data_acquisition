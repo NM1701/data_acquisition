{
 "cells": [
  {
   "cell_type": "markdown",
   "id": "5f8f73eb-6c68-4b58-8336-dc545c58b990",
   "metadata": {},
   "source": [
    "## 動作確認プログラム"
   ]
  },
  {
   "cell_type": "markdown",
   "id": "0ef572b0-78f5-43ec-9e76-29545cf02d3b",
   "metadata": {},
   "source": [
    "#### 確認1　transformersインストール後の動作確認\n",
    "\n",
    "Jax, TensorFlow, PyTorchをpipでインストールした後に行う。"
   ]
  },
  {
   "cell_type": "code",
   "execution_count": 1,
   "id": "7e56a029-f77b-4854-b706-0efcb6551fdd",
   "metadata": {},
   "outputs": [
    {
     "name": "stderr",
     "output_type": "stream",
     "text": [
      "/opt/conda/lib/python3.7/site-packages/tqdm/auto.py:22: TqdmWarning: IProgress not found. Please update jupyter and ipywidgets. See https://ipywidgets.readthedocs.io/en/stable/user_install.html\n",
      "  from .autonotebook import tqdm as notebook_tqdm\n",
      "The cache for model files in Transformers v4.22.0 has been updated. Migrating your old cache. This is a one-time only operation. You can interrupt this and resume the migration later on by calling `transformers.utils.move_cache()`.\n"
     ]
    },
    {
     "name": "stdout",
     "output_type": "stream",
     "text": [
      "Moving 0 files to the new cache system\n"
     ]
    },
    {
     "name": "stderr",
     "output_type": "stream",
     "text": [
      "0it [00:00, ?it/s]\n",
      "No model was supplied, defaulted to distilbert-base-uncased-finetuned-sst-2-english and revision af0f99b (https://huggingface.co/distilbert-base-uncased-finetuned-sst-2-english).\n",
      "Using a pipeline without specifying a model name and revision in production is not recommended.\n",
      "Downloading: 100%|██████████| 629/629 [00:00<00:00, 485kB/s]\n",
      "Downloading: 100%|██████████| 268M/268M [00:04<00:00, 58.1MB/s] \n",
      "Downloading: 100%|██████████| 48.0/48.0 [00:00<00:00, 36.0kB/s]\n",
      "Downloading: 100%|██████████| 232k/232k [00:00<00:00, 932kB/s] \n"
     ]
    },
    {
     "name": "stdout",
     "output_type": "stream",
     "text": [
      "label: POSITIVE, with score: 0.9998\n",
      "label: NEGATIVE, with score: 0.5309\n"
     ]
    }
   ],
   "source": [
    "# transformersインストール後の動作確認コード\n",
    "\n",
    "from transformers import pipeline\n",
    "classifier = pipeline('sentiment-analysis') \n",
    "results = classifier([\"We are very happy to show you the 🤗 Transformers library.\", \n",
    "           \"We hope you don't hate it.\"]) \n",
    "for result in results: \n",
    "    print(f\"label: {result['label']}, with score: {round(result['score'], 4)}\")"
   ]
  },
  {
   "cell_type": "markdown",
   "id": "7b6d603b-2cc0-43de-99e3-8641dd1366c3",
   "metadata": {},
   "source": [
    "label: POSITIVE, with score: 0.9998 \n",
    "\n",
    "label: NEGATIVE, with score: 0.5309\n",
    "\n",
    "インストールに問題なければ上記の2行が結果として表示される。"
   ]
  },
  {
   "cell_type": "code",
   "execution_count": null,
   "id": "028dcd2b-8a2c-4bb4-aeb6-d81ae98fc415",
   "metadata": {},
   "outputs": [],
   "source": []
  },
  {
   "cell_type": "markdown",
   "id": "a6e43c22-0d97-4444-b065-c71a99bd75ad",
   "metadata": {},
   "source": [
    "#### 確認2　Fugashiとその辞書（ipadic）のインストール後の動作確認\n",
    "\n",
    "FugashiとFugashiから利用する辞書（ipadic）をpipでインストール"
   ]
  },
  {
   "cell_type": "code",
   "execution_count": 2,
   "id": "db86873f-fc57-4aa0-b90a-ed5fe2485370",
   "metadata": {},
   "outputs": [
    {
     "name": "stderr",
     "output_type": "stream",
     "text": [
      "Downloading: 100%|██████████| 1.32k/1.32k [00:00<00:00, 919kB/s]\n",
      "Downloading: 100%|██████████| 443M/443M [00:07<00:00, 60.9MB/s] \n",
      "Downloading: 100%|██████████| 258k/258k [00:00<00:00, 1.41MB/s]\n",
      "Downloading: 100%|██████████| 110/110 [00:00<00:00, 87.7kB/s]\n",
      "Downloading: 100%|██████████| 479/479 [00:00<00:00, 328kB/s]\n"
     ]
    },
    {
     "name": "stdout",
     "output_type": "stream",
     "text": [
      "[{'label': 'ポジティブ', 'score': 0.9763936400413513}]\n"
     ]
    }
   ],
   "source": [
    "from transformers import pipeline\n",
    "from transformers import AutoModelForSequenceClassification\n",
    "from transformers import BertJapaneseTokenizer\n",
    "\n",
    "TARGET_TEXT = \"誰でもできる感情分析です。簡単なので、気軽に試してみましょう。\"\n",
    "\n",
    "classifier_model_name = 'daigo/bert-base-japanese-sentiment'\n",
    "tokenizer_model_name = 'cl-tohoku/bert-base-japanese-whole-word-masking'\n",
    "\n",
    "model = AutoModelForSequenceClassification.from_pretrained(classifier_model_name)\n",
    "tokenizer = BertJapaneseTokenizer.from_pretrained(tokenizer_model_name)\n",
    "nlp = pipeline(\"sentiment-analysis\", model = model, tokenizer = tokenizer)\n",
    "\n",
    "print(nlp(TARGET_TEXT))"
   ]
  },
  {
   "cell_type": "markdown",
   "id": "a7d08113-b78e-4318-88da-55ec5bfec0cc",
   "metadata": {},
   "source": [
    "問題なければ上記では以下と同様の結果が表示される。\n",
    "\n",
    "[{'label': 'ポジティブ', 'score': 0.9750074148178101}]"
   ]
  },
  {
   "cell_type": "code",
   "execution_count": null,
   "id": "0b5fe9c0-c001-4fec-bb8f-40c4a6532c52",
   "metadata": {},
   "outputs": [],
   "source": []
  }
 ],
 "metadata": {
  "environment": {
   "kernel": "python3",
   "name": "pytorch-gpu.1-11.m94",
   "type": "gcloud",
   "uri": "gcr.io/deeplearning-platform-release/pytorch-gpu.1-11:m94"
  },
  "kernelspec": {
   "display_name": "Python 3",
   "language": "python",
   "name": "python3"
  },
  "language_info": {
   "codemirror_mode": {
    "name": "ipython",
    "version": 3
   },
   "file_extension": ".py",
   "mimetype": "text/x-python",
   "name": "python",
   "nbconvert_exporter": "python",
   "pygments_lexer": "ipython3",
   "version": "3.7.12"
  }
 },
 "nbformat": 4,
 "nbformat_minor": 5
}
