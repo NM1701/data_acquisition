{
 "cells": [
  {
   "cell_type": "markdown",
   "id": "04237680-e9aa-4236-8255-db5466e73a44",
   "metadata": {},
   "source": [
    "### キーワードを含むツイート数の集計"
   ]
  },
  {
   "cell_type": "code",
   "execution_count": 7,
   "id": "d48e18f5-fa32-419d-90bb-c9a2486b349e",
   "metadata": {},
   "outputs": [],
   "source": [
    "# インポート\n",
    "import tweepy\n",
    "import datetime\n",
    "import os\n",
    "from dotenv import load_dotenv"
   ]
  },
  {
   "cell_type": "code",
   "execution_count": 8,
   "id": "620a3a89-35e5-4ec0-ba55-ac03f978a8cf",
   "metadata": {},
   "outputs": [],
   "source": [
    "load_dotenv()\n",
    "\n",
    "# アカウント情報の定義\n",
    "consumer_key = os.getenv(\"CONSUMER_KEY\")\n",
    "consumer_secret = os.getenv(\"CONSUMER_SECRET\")\n",
    "access_token = os.getenv(\"ACCESS_TOKEN\")\n",
    "access_token_secret = os.getenv(\"ACCESS_TOKEN_SECRET\")\n",
    "\n",
    "auth = tweepy.OAuthHandler(consumer_key, consumer_secret)\n",
    "auth.set_access_token(access_token, access_token_secret)\n",
    "api = tweepy.API(auth)"
   ]
  },
  {
   "cell_type": "code",
   "execution_count": 9,
   "id": "d17f7bf2-de2b-499f-821e-215bd977c752",
   "metadata": {},
   "outputs": [
    {
     "name": "stderr",
     "output_type": "stream",
     "text": [
      "Unexpected parameter: since\n",
      "Unexpected parameter: since\n",
      "Unexpected parameter: since\n",
      "Unexpected parameter: since\n",
      "Unexpected parameter: since\n",
      "Unexpected parameter: since\n",
      "Unexpected parameter: since\n"
     ]
    },
    {
     "name": "stdout",
     "output_type": "stream",
     "text": [
      "-------------------------------------------\n",
      "0\n",
      "-------------------------------------------\n",
      "0\n",
      "-------------------------------------------\n",
      "0\n",
      "-------------------------------------------\n",
      "0\n",
      "-------------------------------------------\n",
      "0\n",
      "-------------------------------------------\n",
      "0\n",
      "-------------------------------------------\n",
      "0\n"
     ]
    }
   ],
   "source": [
    "tweets_data = []\n",
    "total_tweets_data = []\n",
    "keyword = 'かんぽ'\n",
    "since = []\n",
    "until = []\n",
    "\n",
    "# 日付をdatetimeオブジェクトに変更\n",
    "sinceForm = '20220926'\n",
    "untilForm = '20221002'\n",
    "sinceDate = datetime.datetime.strptime(sinceForm, '%Y%m%d')\n",
    "untilDate = datetime.datetime.strptime(\n",
    "    untilForm, '%Y%m%d') + datetime.timedelta(days = 1)\n",
    "diff = (untilDate - sinceDate).days\n",
    "\n",
    "# since, untilリストを作成\n",
    "for i in range(diff):\n",
    "    since.append(sinceDate + datetime.timedelta(days=i))\n",
    "\n",
    "for i in range(diff):\n",
    "    until.append(untilDate + datetime.timedelta(days=-i))\n",
    "until.reverse()\n",
    "\n",
    "# 検索実行\n",
    "for i in range(diff):\n",
    "    for tweet in tweepy.Cursor(\n",
    "            api.search_tweets,\n",
    "            tweet_mode = 'extended',\n",
    "            q = keyword,\n",
    "            lang = 'ja',\n",
    "            since = since[i],\n",
    "            until = until[i]).items():\n",
    "        tweets_data.append(tweet.full_text.strip().replace('\\n', '。') + '\\n')\n",
    "    total_tweets_data.append(len(tweets_data))\n",
    "\n",
    "# キーワードを含むツイート数（累計）を表示\n",
    "for i in total_tweets_data:\n",
    "    print('-------------------------------------------')\n",
    "    print(i)"
   ]
  }
 ],
 "metadata": {
  "environment": {
   "kernel": "python3",
   "name": "pytorch-gpu.1-11.m94",
   "type": "gcloud",
   "uri": "gcr.io/deeplearning-platform-release/pytorch-gpu.1-11:m94"
  },
  "kernelspec": {
   "display_name": "Python 3",
   "language": "python",
   "name": "python3"
  },
  "language_info": {
   "codemirror_mode": {
    "name": "ipython",
    "version": 3
   },
   "file_extension": ".py",
   "mimetype": "text/x-python",
   "name": "python",
   "nbconvert_exporter": "python",
   "pygments_lexer": "ipython3",
   "version": "3.7.12"
  }
 },
 "nbformat": 4,
 "nbformat_minor": 5
}
